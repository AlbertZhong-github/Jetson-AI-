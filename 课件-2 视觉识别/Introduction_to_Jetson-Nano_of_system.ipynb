{
 "cells": [
  {
   "cell_type": "markdown",
   "metadata": {},
   "source": [
    "## ***Introduction to Jetson Nano System***\n",
    "### **Jetson Nano Development Platform**\n",
    "Jetson Nano is a small computer developed by NVIDIA, specifically designed to run AI and deep learning applications. It is a powerful embedded system suitable for edge computing, robotics, IoT devices, intelligent video analysis, and other scenarios. The Jetson Nano offers robust GPU computing capabilities while maintaining low power consumption and a small form factor, making it ideal for developers and engineers to prototype and deploy AI solutions."
   ]
  },
  {
   "cell_type": "markdown",
   "metadata": {},
   "source": [
    "<img src=\"jetson-nano.jpg\" width=\"300\" height=\"250\">"
   ]
  },
  {
   "cell_type": "markdown",
   "metadata": {},
   "source": [
    "\n",
    "\n",
    "#### **Key Features:**\n",
    "1. GPU:\n",
    "   - Equipped with a 128-core NVIDIA Maxwell architecture GPU, offering exceptional parallel processing capabilities, ideal for running deep learning models, computer vision tasks, and more.\n",
    "2. CPU:\n",
    "   - Features a quad-core ARM Cortex-A57 processor, handling daily computational tasks and providing robust multitasking performance.\n",
    "3. Memory and Storage:\n",
    "   - Comes with 4GB LPDDR4 memory, suitable for the processing needs of various applications.\n",
    "   - Supports system storage expansion via microSD card, allowing users to choose storage cards of different capacities as needed.\n",
    "4. nterfaces and Connectivity:\n",
    "   - Offers a diverse range of I/O interfaces, including GPIO, I2C, SPI, UART, etc., enabling connections to various sensors and peripherals.\n",
    "   - Equipped with USB 3.0, HDMI output, and Ethernet port, supporting external displays, keyboards, mice, and network connections.\n",
    "5. Software Support:\n",
    "   - The Jetson Nano supports running the Ubuntu Linux operating system and comes with NVIDIA's JetPack SDK. JetPack includes AI development tools such as CUDA, cuDNN, TensorRT, and supports mainstream deep learning frameworks like TensorFlow, PyTorch, and others.\n",
    "6. Power Consumption:\n",
    "   - The Jetson Nano boasts low power consumption, typically ranging between 5-10 watts, making it suitable for embedded applications requiring energy efficiency.\n",
    "\n",
    "\n",
    "  #### **Applicable Scenarios:**\n",
    "  - Robotics: Can be used to develop intelligent robots for real-time vision processing and decision-making.\n",
    "  - Intelligent Video Analysis: Suitable for image processing in surveillance cameras and drones, supporting edge computing.\n",
    "  - Internet of Things (IoT): Ideal for deployment in IoT devices, enabling edge intelligence and local inference.\n",
    "  - Education and Prototyping: The Jetson Nano serves as an excellent platform for learning AI and embedded systems, widely used in teaching and laboratory research.\n",
    "\n",
    "With its powerful computing capabilities and flexible expandability, the Jetson Nano provides developers with a cost-effective AI development platform.\n",
    "\n"
   ]
  },
  {
   "cell_type": "markdown",
   "metadata": {},
   "source": [
    "### 2.Jetbot intelligent car"
   ]
  },
  {
   "cell_type": "markdown",
   "metadata": {},
   "source": []
  },
  {
   "cell_type": "markdown",
   "metadata": {},
   "source": [
    "<img src=\"小车.jpg\" width=\"400\" height=\"500\">"
   ]
  },
  {
   "cell_type": "markdown",
   "metadata": {},
   "source": [
    "The JetBot Intelligent Car is an open-source robotics platform based on the NVIDIA Jetson Nano development board, designed specifically for education, research, and development personnel. The JetBot Intelligent Car integrates various sensors and modules, making it suitable for AI and robotics development, particularly in applications such as autonomous driving, computer vision, and machine learning.\n",
    "\n",
    "#### **Main Features:**\n",
    "1. Platform Foundation:\n",
    "   - JetBot employs the NVIDIA Jetson Nano as its core computing platform, leveraging its powerful GPU and processor to handle tasks such as image processing, object recognition, path planning, and more.\n",
    "2. Modular Design:\n",
    "   - The JetBot car is composed of multiple modules, facilitating easy assembly and expansion. Users can add additional sensors and peripherals according to their specific needs.\n",
    "3. Sensors and Peripherals:<br> \n",
    "  Camera:\n",
    "   - JetBot is equipped with a wide-angle camera, typically a USB camera or a CSI interface camera (e.g., RPi Camera Module v2).\n",
    "   - The camera is primarily used for computer vision tasks such as object recognition, path detection, obstacle detection, and target tracking.\n",
    "   - It typically offers an 8-megapixel resolution, supporting 1080p video recording, allowing for the real-time capture and processing of high-quality video streams.\n",
    "\n",
    "   Ultrasonic Sensors:\n",
    "   - JetBot is fitted with one or more ultrasonic sensors for measuring the distance to obstacles.\n",
    "   - These sensors work by emitting and receiving sound waves to measure the distance to objects, serving as a crucial component of obstacle avoidance functionality.\n",
    "   - Commonly used is the HC-SR04 module, which has a ranging distance of 2cm to 4m with a precision of 0.3cm.\n",
    "  \n",
    "    Gyroscope/Accelerometer:\n",
    "   - Certain versions or kits of JetBot may include a 6-axis or 9-axis IMU (Inertial Measurement Unit), such as the MPU6050 or LSM9DS1.\n",
    "   - The IMU measures the car's acceleration, angular velocity, and other information, aiding in attitude estimation and motion control.\n",
    "1. Communication Modules:<br>\n",
    "   \n",
    "    The JetBot car offers multiple communication methods for data exchange with external devices and modules.\n",
    "\n",
    "  - Wi-Fi Module:\n",
    "  - The Jetson Nano development board typically comes with a built-in Wi-Fi adapter or supports wireless network connections via  USB Wi-Fi dongle.\n",
    "  - Wi-Fi is primarily used for remote control, data transmission, and software updates, supporting features such as SSH remote login and VNC remote desktop control.\n",
    "  \n",
    "  - Bluetooth Module (Optional):\n",
    "  - JetBot supports the addition of Bluetooth functionality through a USB Bluetooth adapter for short-range wireless communication.\n",
    "  - Bluetooth can be used to connect external controllers, sensors, or communicate with other Bluetooth devices.\n",
    "  - UART, I2C, SPI Communication Interfaces:\n",
    "  - The JetBot development board provides various GPIO interfaces, including UART, I2C, and SPI, for connecting and communicating with external sensors and modules.\n",
    "  \n",
    "  - These interfaces can be utilized to expand sensors, connect displays, or exchange data with other microcontrollers.\n",
    "\n",
    " 5. Drive Modules\n",
    "The JetBot's drive system consists of the following key modules, ensuring the movement and control functions of the car.\n",
    "  - Motor Driver Board:\n",
    "    - The JetBot car typically utilizes a dual-motor drive system, employing H-bridge motor driver boards (such as L298N, TB6612FNG) to control the speed and direction of DC motors.\n",
    "    - The driver board regulates the motor speed through PWM (Pulse Width Modulation) signals and controls the motor's forward and reverse rotation by altering the current direction in the H-bridge circuit.\n",
    "  \n",
    "  - DC Motors:\n",
    "    - The car is equipped with two or four DC motors for driving the wheels.\n",
    "    - The motors are typically 6V or 12V, supporting bidirectional rotation and providing sufficient torque and speed to move the vehicle body.\n",
    "    - Motors equipped with encoders can provide real-time feedback on motor speed and position, enabling more precise motion control.\n",
    "\n",
    "  - Power Management Module:\n",
    "    - The JetBot is typically powered by a rechargeable lithium-ion battery pack, and the power management module is responsible for voltage regulation and power supply management.\n",
    "    - The battery pack is usually a 7.4V or 11.1V lithium-ion battery, and a DC-DC converter is used to provide stable voltage for the motors and development board.\n",
    "   - Battery Protection Module:\n",
    "     -  A battery protection circuit is included to ensure the safe operation of the lithium-ion battery, preventing overcharging, over-discharging, or short circuits.\n",
    "\n",
    "\n",
    "6. Software Support:\n",
    "   - The JetBot runs on the Ubuntu operating system on the Jetson Nano and supports the JetPack SDK, providing AI development tools such as CUDA and TensorRT.\n",
    "   - Pre-installed with ROS (Robot Operating System) support, it caters to the modularization and communication needs of robot development.\n",
    "   - Waveshare offers open-source software examples and tutorials covering functions such as autonomous driving, object tracking, obstacle avoidance, and more.\n",
    "7. Application Scenarios:\n",
    "   - Autonomous Driving: Leveraging cameras and AI models, the JetBot can perform road recognition, path planning, and achieve simple autonomous driving capabilities.\n",
    "   - Computer Vision: The JetBot utilizes cameras for image recognition and object tracking, applicable in scenarios such as object identification, gesture control, and more.\n",
    "   - Education and Research: The JetBot serves as an ideal teaching tool, suitable for demonstrating and experimenting with AI and robotics technology in classrooms and laboratories.\n"
   ]
  }
 ],
 "metadata": {
  "language_info": {
   "name": "python"
  }
 },
 "nbformat": 4,
 "nbformat_minor": 2
}
